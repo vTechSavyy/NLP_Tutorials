{
 "cells": [
  {
   "cell_type": "code",
   "execution_count": 1,
   "metadata": {},
   "outputs": [],
   "source": [
    "from helpers import *\n",
    "import random"
   ]
  },
  {
   "cell_type": "code",
   "execution_count": 2,
   "metadata": {},
   "outputs": [
    {
     "name": "stdout",
     "output_type": "stream",
     "text": [
      "Reading lines...\n",
      "Read 267186 sentence pairs\n",
      "Trimmed to 15298 sentence pairs\n",
      "Counting words...\n",
      "Counted words:\n",
      "deu 5619\n",
      "eng 3538\n"
     ]
    }
   ],
   "source": [
    "# Load in the data using the data loader\n",
    "BATCH_SIZE = 32\n",
    "\n",
    "input_lang, output_lang, dataloader, pairs = get_dataloader(BATCH_SIZE, 'eng', 'deu')"
   ]
  },
  {
   "cell_type": "code",
   "execution_count": 3,
   "metadata": {},
   "outputs": [],
   "source": [
    "from EncoderRNN import EncoderRNN\n",
    "from DecoderRNN import DecoderRNN\n",
    "\n",
    "# Setup the encoder and decoder:\n",
    "HIDDEN_SIZE = 128\n",
    "encoder = EncoderRNN(input_lang.n_words, HIDDEN_SIZE).to(device)\n",
    "decoder = DecoderRNN(HIDDEN_SIZE, output_lang.n_words).to(device)"
   ]
  },
  {
   "cell_type": "code",
   "execution_count": 4,
   "metadata": {},
   "outputs": [
    {
     "name": "stdout",
     "output_type": "stream",
     "text": [
      "0m 16s (- 5m 6s) (5 5%) 1.8247\n",
      "0m 32s (- 4m 49s) (10 10%) 1.0202\n",
      "0m 47s (- 4m 29s) (15 15%) 0.6937\n",
      "1m 2s (- 4m 10s) (20 20%) 0.5025\n",
      "1m 18s (- 3m 54s) (25 25%) 0.3785\n",
      "1m 33s (- 3m 38s) (30 30%) 0.2929\n",
      "1m 48s (- 3m 22s) (35 35%) 0.2328\n",
      "2m 4s (- 3m 6s) (40 40%) 0.1895\n",
      "2m 19s (- 2m 50s) (45 45%) 0.1584\n",
      "2m 34s (- 2m 34s) (50 50%) 0.1350\n",
      "2m 50s (- 2m 19s) (55 55%) 0.1177\n",
      "3m 5s (- 2m 3s) (60 60%) 0.1040\n",
      "3m 20s (- 1m 47s) (65 65%) 0.0939\n",
      "3m 36s (- 1m 32s) (70 70%) 0.0860\n",
      "3m 52s (- 1m 17s) (75 75%) 0.0805\n",
      "4m 8s (- 1m 2s) (80 80%) 0.0745\n",
      "4m 25s (- 0m 46s) (85 85%) 0.0703\n",
      "4m 41s (- 0m 31s) (90 90%) 0.0666\n",
      "4m 58s (- 0m 15s) (95 95%) 0.0636\n",
      "5m 14s (- 0m 0s) (100 100%) 0.0612\n"
     ]
    }
   ],
   "source": [
    "# Train the model:\n",
    "from train_helpers import train\n",
    "\n",
    "# Set the number of epochs and learning rate:\n",
    "num_epochs = 100\n",
    "learning_rate = 0.001\n",
    "\n",
    "# Train:\n",
    "train(dataloader, encoder, decoder, num_epochs, learning_rate, print_every=5)"
   ]
  },
  {
   "cell_type": "code",
   "execution_count": 7,
   "metadata": {},
   "outputs": [
    {
     "name": "stdout",
     "output_type": "stream",
     "text": [
      "Input ->  in zehn minuten habe ich zeit\n",
      "Ground Truth ->  i m free in ten minutes\n",
      "Prediction ->  i m free in ten minutes <EOS>\n",
      "\n",
      "Input ->  ich bin wirklich nicht beschaftigt\n",
      "Ground Truth ->  i m not really busy\n",
      "Prediction ->  i m not really busy all the result <EOS>\n",
      "\n",
      "Input ->  ich warte auf inspiration\n",
      "Ground Truth ->  i m awaiting inspiration\n",
      "Prediction ->  i m awaiting inspiration for you and an answer <EOS>\n",
      "\n",
      "Input ->  du bist so blod !\n",
      "Ground Truth ->  you are so stupid\n",
      "Prediction ->  you are so stupid to do that <EOS>\n",
      "\n",
      "Input ->  er ist ein holzkopf\n",
      "Ground Truth ->  he is thick as a brick\n",
      "Prediction ->  he is too cautious to try your father <EOS>\n",
      "\n",
      "Input ->  ich denke an sie\n",
      "Ground Truth ->  i m thinking about you\n",
      "Prediction ->  i m thinking of you agree <EOS>\n",
      "\n",
      "Input ->  ich bin ein bisschen spat dran\n",
      "Ground Truth ->  i m a bit late\n",
      "Prediction ->  i m a bit late singer <EOS>\n",
      "\n",
      "Input ->  wir machen uns sorgen um oma und opa\n",
      "Ground Truth ->  we re worried about grandma and grandpa\n",
      "Prediction ->  we re worried about grandpa and grandma <EOS>\n",
      "\n",
      "Input ->  ich bin zu alt dafur\n",
      "Ground Truth ->  i m too old for that\n",
      "Prediction ->  i m too old for this sort of thing <EOS>\n",
      "\n",
      "Input ->  sie spart geld um ins ausland zu gehen\n",
      "Ground Truth ->  she is saving money to go abroad\n",
      "Prediction ->  she is saving money to go abroad <EOS>\n",
      "\n"
     ]
    }
   ],
   "source": [
    "# Evaluate the model:\n",
    "from eval_helpers import *\n",
    "\n",
    "encoder.eval()\n",
    "decoder.eval()\n",
    "evaluateRandomly(encoder, decoder, input_lang, output_lang, pairs)"
   ]
  },
  {
   "cell_type": "code",
   "execution_count": null,
   "metadata": {},
   "outputs": [],
   "source": []
  }
 ],
 "metadata": {
  "kernelspec": {
   "display_name": "Python 3.9.13 ('base')",
   "language": "python",
   "name": "python3"
  },
  "language_info": {
   "codemirror_mode": {
    "name": "ipython",
    "version": 3
   },
   "file_extension": ".py",
   "mimetype": "text/x-python",
   "name": "python",
   "nbconvert_exporter": "python",
   "pygments_lexer": "ipython3",
   "version": "3.9.13"
  },
  "orig_nbformat": 4,
  "vscode": {
   "interpreter": {
    "hash": "05f98a8d37b882c91b019f6702e08d1b1eccf9d9c5d55920243c1d4693a1e7b1"
   }
  }
 },
 "nbformat": 4,
 "nbformat_minor": 2
}
