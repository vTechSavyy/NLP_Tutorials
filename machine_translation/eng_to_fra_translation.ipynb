{
 "cells": [
  {
   "cell_type": "code",
   "execution_count": 2,
   "metadata": {},
   "outputs": [],
   "source": [
    "from helpers import *\n",
    "import random"
   ]
  },
  {
   "cell_type": "code",
   "execution_count": 3,
   "metadata": {},
   "outputs": [
    {
     "name": "stdout",
     "output_type": "stream",
     "text": [
      "Reading lines...\n",
      "Read 135842 sentence pairs\n",
      "Trimmed to 11445 sentence pairs\n",
      "Counting words...\n",
      "Counted words:\n",
      "fra 4601\n",
      "eng 2991\n"
     ]
    }
   ],
   "source": [
    "# Load in the data using the data loader\n",
    "BATCH_SIZE = 32\n",
    "\n",
    "input_lang, output_lang, dataloader, pairs = get_dataloader(BATCH_SIZE, 'eng', 'fra')"
   ]
  },
  {
   "cell_type": "code",
   "execution_count": 7,
   "metadata": {},
   "outputs": [],
   "source": [
    "from EncoderRNN import EncoderRNN\n",
    "from DecoderRNN import DecoderRNN\n",
    "\n",
    "# Setup the encoder and decoder:\n",
    "HIDDEN_SIZE = 128\n",
    "encoder = EncoderRNN(input_lang.n_words, HIDDEN_SIZE).to(device)\n",
    "decoder = DecoderRNN(HIDDEN_SIZE, output_lang.n_words).to(device)\n"
   ]
  },
  {
   "cell_type": "code",
   "execution_count": 8,
   "metadata": {},
   "outputs": [
    {
     "name": "stdout",
     "output_type": "stream",
     "text": [
      "0m 10s (- 3m 27s) (5 5%) 1.7037\n",
      "0m 22s (- 3m 19s) (10 10%) 0.9040\n",
      "0m 33s (- 3m 7s) (15 15%) 0.5779\n",
      "0m 43s (- 2m 55s) (20 20%) 0.3853\n",
      "0m 54s (- 2m 44s) (25 25%) 0.2667\n",
      "1m 6s (- 2m 35s) (30 30%) 0.1901\n",
      "1m 18s (- 2m 25s) (35 35%) 0.1404\n",
      "1m 30s (- 2m 15s) (40 40%) 0.1082\n",
      "1m 41s (- 2m 4s) (45 45%) 0.0864\n",
      "1m 53s (- 1m 53s) (50 50%) 0.0708\n",
      "2m 5s (- 1m 42s) (55 55%) 0.0610\n",
      "2m 17s (- 1m 31s) (60 60%) 0.0536\n",
      "2m 29s (- 1m 20s) (65 65%) 0.0470\n",
      "2m 41s (- 1m 9s) (70 70%) 0.0442\n",
      "2m 53s (- 0m 57s) (75 75%) 0.0403\n",
      "3m 5s (- 0m 46s) (80 80%) 0.0383\n",
      "3m 17s (- 0m 34s) (85 85%) 0.0363\n",
      "3m 28s (- 0m 23s) (90 90%) 0.0340\n",
      "3m 40s (- 0m 11s) (95 95%) 0.0334\n",
      "3m 52s (- 0m 0s) (100 100%) 0.0314\n"
     ]
    }
   ],
   "source": [
    "# Train the model:\n",
    "from train_helpers import train\n",
    "\n",
    "# Set the number of epochs and learning rate:\n",
    "num_epochs = 100\n",
    "learning_rate = 0.001\n",
    "\n",
    "# Train:\n",
    "train(dataloader, encoder, decoder, num_epochs, learning_rate, print_every=5)"
   ]
  },
  {
   "cell_type": "code",
   "execution_count": 9,
   "metadata": {},
   "outputs": [
    {
     "name": "stdout",
     "output_type": "stream",
     "text": [
      "> il est absent de l ecole\n",
      "= he is absent from school\n",
      "< he is absent from school today <EOS>\n",
      "\n",
      "> je viens te chercher\n",
      "= i m coming to pick you up\n",
      "< i m sorry to have to leave here for you\n",
      "\n",
      "> on me traite comme un enfant\n",
      "= i m being treated like a child\n",
      "< i m being treated like a child <EOS>\n",
      "\n",
      "> elles sont russes\n",
      "= they are russian\n",
      "< they are expected they want to come <EOS>\n",
      "\n",
      "> c est le seul enfant qu ils aient\n",
      "= he is the only child they have\n",
      "< he is the only child they have <EOS>\n",
      "\n",
      "> vous n etes pas encore morte\n",
      "= you re not dead yet\n",
      "< you re not easy to find <EOS>\n",
      "\n",
      "> vous me decevez beaucoup\n",
      "= i m very disappointed in you\n",
      "< you re such a jerk <EOS>\n",
      "\n",
      "> nous avons toutes faim\n",
      "= we re all hungry\n",
      "< we re all going to leave the tennis situation <EOS>\n",
      "\n",
      "> elle est tres occupee\n",
      "= she is very busy\n",
      "< she is very busy to talk to you <EOS>\n",
      "\n",
      "> je suis completement confuse\n",
      "= i am totally confused\n",
      "< i am totally confused s better <EOS>\n",
      "\n"
     ]
    }
   ],
   "source": [
    "# Evaluate the model:\n",
    "from eval_helpers import *\n",
    "\n",
    "encoder.eval()\n",
    "decoder.eval()\n",
    "evaluateRandomly(encoder, decoder, input_lang, output_lang, pairs)"
   ]
  },
  {
   "cell_type": "code",
   "execution_count": null,
   "metadata": {},
   "outputs": [],
   "source": []
  }
 ],
 "metadata": {
  "kernelspec": {
   "display_name": "Python 3.9.13 ('base')",
   "language": "python",
   "name": "python3"
  },
  "language_info": {
   "codemirror_mode": {
    "name": "ipython",
    "version": 3
   },
   "file_extension": ".py",
   "mimetype": "text/x-python",
   "name": "python",
   "nbconvert_exporter": "python",
   "pygments_lexer": "ipython3",
   "version": "3.9.13"
  },
  "orig_nbformat": 4,
  "vscode": {
   "interpreter": {
    "hash": "05f98a8d37b882c91b019f6702e08d1b1eccf9d9c5d55920243c1d4693a1e7b1"
   }
  }
 },
 "nbformat": 4,
 "nbformat_minor": 2
}
