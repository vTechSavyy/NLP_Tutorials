{
 "cells": [
  {
   "cell_type": "code",
   "execution_count": 3,
   "metadata": {},
   "outputs": [],
   "source": [
    "import torch.nn as nn\n",
    "import torch"
   ]
  },
  {
   "cell_type": "code",
   "execution_count": 2,
   "metadata": {},
   "outputs": [],
   "source": [
    "embedding = nn.Embedding(100, 5)"
   ]
  },
  {
   "cell_type": "code",
   "execution_count": 5,
   "metadata": {},
   "outputs": [
    {
     "name": "stdout",
     "output_type": "stream",
     "text": [
      "tensor([[[-1.3503,  0.3081, -1.2628, -0.9445, -0.5948],\n",
      "         [ 0.0323, -0.2842,  1.0266,  0.8103, -0.6095],\n",
      "         [-0.7855,  0.2334,  0.5135,  0.2064,  0.4160]],\n",
      "\n",
      "        [[ 0.1088, -0.5876, -0.9239, -1.1575, -0.5690],\n",
      "         [-0.1505, -0.7596, -0.1152, -0.8817, -0.6129],\n",
      "         [ 2.1962,  1.0490, -0.1183, -0.4803,  0.7735]]],\n",
      "       grad_fn=<EmbeddingBackward0>)\n"
     ]
    }
   ],
   "source": [
    "word_indices = torch.tensor([[0, 12, 35], [14, 25, 32]])\n",
    "embeds = embedding(word_indices)\n",
    "print(embeds)"
   ]
  },
  {
   "cell_type": "code",
   "execution_count": null,
   "metadata": {},
   "outputs": [],
   "source": []
  }
 ],
 "metadata": {
  "kernelspec": {
   "display_name": "Python 3.9.13 ('base')",
   "language": "python",
   "name": "python3"
  },
  "language_info": {
   "codemirror_mode": {
    "name": "ipython",
    "version": 3
   },
   "file_extension": ".py",
   "mimetype": "text/x-python",
   "name": "python",
   "nbconvert_exporter": "python",
   "pygments_lexer": "ipython3",
   "version": "3.9.13"
  },
  "orig_nbformat": 4,
  "vscode": {
   "interpreter": {
    "hash": "05f98a8d37b882c91b019f6702e08d1b1eccf9d9c5d55920243c1d4693a1e7b1"
   }
  }
 },
 "nbformat": 4,
 "nbformat_minor": 2
}
